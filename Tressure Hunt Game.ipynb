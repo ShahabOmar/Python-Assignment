{
 "cells": [
  {
   "cell_type": "code",
   "execution_count": 1,
   "id": "b0e6e70c",
   "metadata": {},
   "outputs": [],
   "source": [
    "import random\n",
    "\n",
    "\n",
    "# This function, create_board, takes two arguments, rows and cols\n",
    "def create(rows, cols):\n",
    "    board = []\n",
    "    for rowss in range(rows):\n",
    "        row = []\n",
    "        for column in range(cols):\n",
    "            row.append('*')\n",
    "        board.append(row)\n",
    "    return board"
   ]
  },
  {
   "cell_type": "code",
   "execution_count": 2,
   "id": "d4526a7a",
   "metadata": {},
   "outputs": [],
   "source": [
    "def display_board(board):\n",
    "    for row in board:\n",
    "        row_str = ''\n",
    "        for cell in row:\n",
    "            row_str += cell + ' '\n",
    "        print(row_str)\n",
    "        "
   ]
  },
  {
   "cell_type": "code",
   "execution_count": 3,
   "id": "03518d7d",
   "metadata": {},
   "outputs": [],
   "source": [
    "def place_treasure(board, row, col):\n",
    "    board[row][col] = 'T'"
   ]
  },
  {
   "cell_type": "code",
   "execution_count": 4,
   "id": "6caa3df9",
   "metadata": {},
   "outputs": [],
   "source": [
    "def place_trap(board, rows, cols, treasure_row, treasure_col):\n",
    "    while True:\n",
    "        trap_row = random.randint(0, rows - 1)\n",
    "        trap_col = random.randint(0, cols - 1)\n",
    "        if (trap_row, trap_col) != (treasure_row, treasure_col):\n",
    "            board[trap_row][trap_col] = 'X'\n",
    "            break\n"
   ]
  },
  {
   "cell_type": "code",
   "execution_count": null,
   "id": "ecdc12ad",
   "metadata": {},
   "outputs": [
    {
     "name": "stdout",
     "output_type": "stream",
     "text": [
      "\u001b[1mWelcome to the Treasure Hunt Game!\u001b[0m\n"
     ]
    }
   ],
   "source": [
    "'''\n",
    "The series of if and elif statements within the loop check the player's guesses and respond accordingly:\n",
    "If the player's guess matches the treasure's position, they win.\n",
    "If the player's guess lands on a trap, they lose.\n",
    "If the guess is valid and not a trap or the treasure, they are encouraged to keep searching.\n",
    "'''\n",
    "\n",
    "def main():\n",
    "    print(\"\\033[1mWelcome to the Treasure Hunt Game!\\033[0m\")\n",
    "\n",
    "    rows = int(input(\"Enter the number of rows: \"))\n",
    "    cols = int(input(\"Enter the number of columns: \"))\n",
    "    \n",
    "    board = create(rows, cols)\n",
    "    \n",
    "    treasure_row = int(input(\"Enter the row to hide the treasure (0 to {}): \".format(rows - 1)))\n",
    "    treasure_col = int(input(\"Enter the column to hide the treasure (0 to {}): \".format(cols - 1)))\n",
    "    \n",
    "    if treasure_row < 0 or treasure_row >= rows or treasure_col < 0 or treasure_col >= cols:\n",
    "        print(\"Invalid treasure location. Exiting.\")\n",
    "        return\n",
    "    \n",
    "    place_treasure(board, treasure_row, treasure_col)\n",
    "    place_trap(board, rows, cols, treasure_row, treasure_col)\n",
    "    \n",
    "    print(\"\\nGame board:\")\n",
    "    display_board(board)\n",
    "    \n",
    "    while True:\n",
    "        guess_row = int(input(\"\\nEnter your guess for the row: \"))\n",
    "        guess_col = int(input(\"Enter your guess for the column: \"))\n",
    "        \n",
    "        if guess_row < 0 or guess_row >= rows or guess_col < 0 or guess_col >= cols:\n",
    "            print(\"Invalid guess. Try again.\")\n",
    "            continue\n",
    "        \n",
    "        if (guess_row, guess_col) == (treasure_row, treasure_col):\n",
    "            print(\"Congratulations! You've found the treasure!\")\n",
    "            break\n",
    "        elif board[guess_row][guess_col] == 'X':\n",
    "            print(\"Oops! You've been trapped by a hidden trap (X).\")\n",
    "            break\n",
    "        else:\n",
    "            print(\"No treasure here. Keep searching!\")\n",
    "\n",
    "if __name__ == \"__main__\":\n",
    "    main()\n"
   ]
  },
  {
   "cell_type": "code",
   "execution_count": null,
   "id": "3539fcf6",
   "metadata": {},
   "outputs": [],
   "source": []
  }
 ],
 "metadata": {
  "kernelspec": {
   "display_name": "Python 3 (ipykernel)",
   "language": "python",
   "name": "python3"
  },
  "language_info": {
   "codemirror_mode": {
    "name": "ipython",
    "version": 3
   },
   "file_extension": ".py",
   "mimetype": "text/x-python",
   "name": "python",
   "nbconvert_exporter": "python",
   "pygments_lexer": "ipython3",
   "version": "3.9.12"
  }
 },
 "nbformat": 4,
 "nbformat_minor": 5
}
