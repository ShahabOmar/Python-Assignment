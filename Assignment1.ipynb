{
 "cells": [
  {
   "cell_type": "markdown",
   "id": "6c82ff44",
   "metadata": {},
   "source": [
    "#  shows with graph"
   ]
  },
  {
   "cell_type": "code",
   "execution_count": 2,
   "id": "bf0449a4",
   "metadata": {},
   "outputs": [
    {
     "name": "stdout",
     "output_type": "stream",
     "text": [
      "Please, Enter your weight in KG: 65\n",
      "Please Enter your height in meters: 1.8\n",
      "Your Body Mass Index is  20.06\n",
      "Your BMI category: Normal\n"
     ]
    },
    {
     "data": {
      "image/png": "[encoded data removed]",
      "text/plain": [
       "<Figure size 432x288 with 1 Axes>"
      ]
     },
     "metadata": {
      "needs_background": "light"
     },
     "output_type": "display_data"
    }
   ],
   "source": [
    "#Solution\n",
    "import matplotlib.pyplot as plt\n",
    "\n",
    "weight = int(input('Please, Enter your weight in KG: '))\n",
    "height = float(input('Please Enter your height in meters: '))\n",
    "\n",
    "BMI = weight / (height ** 2)\n",
    "\n",
    "print('Your Body Mass Index is ',round(BMI,2))\n",
    "\n",
    "if BMI <= 16:\n",
    "    BodyMassIndex = 'Severe Thinness/Underweight'\n",
    "elif BMI <= 18.5:\n",
    "    BodyMassIndex = 'Moderate/Mild Thinness or Underweight'\n",
    "elif BMI < 24.9:\n",
    "    BodyMassIndex = 'Normal'\n",
    "elif BMI < 30:\n",
    "    BodyMassIndex = 'Overweight'\n",
    "else:\n",
    "    BodyMassIndex = 'Obese'\n",
    "\n",
    "print('Your BMI category:', BodyMassIndex)\n",
    "\n",
    "\n",
    "categories = ['Severe Underweight', 'Underweight', 'Normal', 'Overweight', 'Obese']\n",
    "bmi_values = [16, 18.5, 24.9, 30, 40]    #Upper Limit values of Ctgrs\n",
    "\n",
    "plt.bar(categories, bmi_values, color=['red', 'orange', 'green', 'yellow', 'purple'])\n",
    "plt.xlabel('BMI Categories')\n",
    "plt.ylabel('BMI Value')\n",
    "plt.title('BMI Calculation')\n",
    "plt.xticks(rotation=15)\n",
    "plt.show()\n"
   ]
  },
  {
   "cell_type": "code",
   "execution_count": 5,
   "id": "f3837f69",
   "metadata": {},
   "outputs": [
    {
     "name": "stdout",
     "output_type": "stream",
     "text": [
      "Please, Enter your weight in KG: 65\n",
      "Please Enter your height in meters: 1.8\n",
      "Your Body Mass Index is  20.06\n",
      "Your BMI is Normal\n"
     ]
    }
   ],
   "source": [
    "for _ in range(5):  # Allow up to 5 attempts for weight input\n",
    "    weight = int(input('Please, Enter your weight in KG: '))\n",
    "    if weight <= 0:\n",
    "        print('Weight cannot be negative or zero. Please enter a valid weight.')\n",
    "    else:\n",
    "        break\n",
    "else:\n",
    "    print('Maximum attempts reached. Exiting...')\n",
    "    exit(1)\n",
    "\n",
    "for _ in range(5):  \n",
    "    height = float(input('Please Enter your height in meters: '))\n",
    "    if height <= 0:\n",
    "        print('Height cannot be negative or zero. Please enter a valid height.')\n",
    "    else:\n",
    "        break\n",
    "else:\n",
    "    print('Maximum attempts reached. Exiting...')\n",
    "    exit(1)\n",
    "\n",
    "BMI = weight / (height ** 2)\n",
    "print('Your Body Mass Index is ',round(BMI,2))\n",
    "if BMI <= 16:\n",
    "    print('Your Body mass index is severe thinness/underweight')\n",
    "elif BMI <= 18.5:\n",
    "    print('Your BMI is moderate/mild thinness or underweight')\n",
    "elif BMI < 24.9:\n",
    "    print('Your BMI is Normal')\n",
    "elif BMI < 30:\n",
    "    print('Your BMI is Overweight')\n",
    "else:\n",
    "    print('Your BMI is obese')\n"
   ]
  },
  {
   "cell_type": "code",
   "execution_count": null,
   "id": "b11c60d4",
   "metadata": {},
   "outputs": [],
   "source": []
  }
 ],
 "metadata": {
  "kernelspec": {
   "display_name": "Python 3 (ipykernel)",
   "language": "python",
   "name": "python3"
  },
  "language_info": {
   "codemirror_mode": {
    "name": "ipython",
    "version": 3
   },
   "file_extension": ".py",
   "mimetype": "text/x-python",
   "name": "python",
   "nbconvert_exporter": "python",
   "pygments_lexer": "ipython3",
   "version": "3.9.12"
  }
 },
 "nbformat": 4,
 "nbformat_minor": 5
}
